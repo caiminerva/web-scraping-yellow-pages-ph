{
 "cells": [
  {
   "cell_type": "markdown",
   "id": "5cd0059f",
   "metadata": {},
   "source": [
    "## Web Scraping the data from Yellow Pages PH site"
   ]
  },
  {
   "cell_type": "code",
   "execution_count": 1,
   "id": "99c1b033",
   "metadata": {},
   "outputs": [
    {
     "name": "stdout",
     "output_type": "stream",
     "text": [
      "Scraping complete!\n"
     ]
    }
   ],
   "source": [
    "# FINAL PAGE 1 \n",
    "\n",
    "from bs4 import BeautifulSoup\n",
    "import re\n",
    "import requests\n",
    "import csv\n",
    "\n",
    "# Specify the URL to scrape\n",
    "url = requests.get('https://www.yellow-pages.ph/category/real-estate-brokers/page-1?sort=most-rated')\n",
    "\n",
    "# Use BeautifulSoup to parse the HTML\n",
    "soup = BeautifulSoup(url.text, 'html.parser')\n",
    "\n",
    "# Find the relevant elements on the page\n",
    "category_elements = soup.findAll('span', attrs={'class':'search-capsule-rounded search-badge'})\n",
    "\n",
    "name_elements = soup.findAll('h2', attrs={'class':'search-tradename'})\n",
    "\n",
    "address_elements = soup.findAll('span', attrs={'class':'ellipsis'})\n",
    "\n",
    "telephone_elements = []\n",
    "for elem in soup.find_all('a', href=True):\n",
    "    if elem.get(\"href\").startswith(\"tel:\"):\n",
    "        telephone_elements.append(elem['href'])\n",
    "\n",
    "rating_elements = soup.findAll('div', attrs={'class':'mr-1 text-muted'})\n",
    "\n",
    "# Create CSV file\n",
    "file = open('brokers_page1.csv', 'w', encoding='utf-8', newline='')\n",
    "writer = csv.writer(file)\n",
    "\n",
    "writer.writerow(['Category', 'Name', 'Address', 'Telephone', 'Ratings'])\n",
    "\n",
    "# Using a for-loop to get the attributes\n",
    "for category, name, address, telephone, rating in zip(category_elements, name_elements, \n",
    "                                                      address_elements, telephone_elements, rating_elements):\n",
    "    \n",
    "    # Check if the category starts with \"Real Estate Brokers\"\n",
    "    if category.text.startswith('Real Estate Brokers'):\n",
    "        # Remove HTML tags from the scraped data using regex\n",
    "        category = re.sub('<[^<]+?>', '', category.text)\n",
    "        name = re.sub('<[^<]+?>', '', name.text).strip()  # Use strip() to remove excess spaces\n",
    "        address = re.sub('<[^<]+?>', '', address.text)\n",
    "        telephone = re.sub('<[^<]+?>', '', telephone)\n",
    "        rating = re.sub('<[^<]+?>', '', rating.text)\n",
    "\n",
    "        # Write the broker's information to the CSV file\n",
    "        writer.writerow([category, name, address, telephone, rating])\n",
    "\n",
    "file.close()\n",
    "\n",
    "# Print a message to confirm the scrape is complete\n",
    "print('Scraping complete!')"
   ]
  },
  {
   "cell_type": "code",
   "execution_count": 2,
   "id": "54bd185b",
   "metadata": {},
   "outputs": [
    {
     "name": "stdout",
     "output_type": "stream",
     "text": [
      "Scraping complete!\n"
     ]
    }
   ],
   "source": [
    "# FINAL PAGE 2\n",
    "\n",
    "from bs4 import BeautifulSoup\n",
    "import re\n",
    "import requests\n",
    "import csv\n",
    "\n",
    "# Specify the URL to scrape\n",
    "url = requests.get('https://www.yellow-pages.ph/category/real-estate-brokers/page-2?sort=most-rated')\n",
    "\n",
    "# Use BeautifulSoup to parse the HTML\n",
    "soup = BeautifulSoup(url.text, 'html.parser')\n",
    "\n",
    "# Find the relevant elements on the page\n",
    "category_elements = soup.findAll('span', attrs={'class':'search-capsule-rounded search-badge'})\n",
    "\n",
    "name_elements = soup.findAll('h2', attrs={'class':'search-tradename'})\n",
    "\n",
    "address_elements = soup.findAll('span', attrs={'class':'ellipsis'})\n",
    "\n",
    "telephone_elements = []\n",
    "for elem in soup.find_all('a', href=True):\n",
    "    if elem.get(\"href\").startswith(\"tel:\"):\n",
    "        telephone_elements.append(elem['href'])\n",
    "\n",
    "rating_elements = soup.findAll('div', attrs={'class':'mr-1 text-muted'})\n",
    "\n",
    "# Create CSV file\n",
    "file = open('brokers_page2.csv', 'w', encoding='utf-8', newline='')\n",
    "writer = csv.writer(file)\n",
    "\n",
    "writer.writerow(['Category', 'Name', 'Address', 'Telephone', 'Ratings'])\n",
    "\n",
    "# Using a for-loop to get the attributes\n",
    "for category, name, address, telephone, rating in zip(category_elements, name_elements, \n",
    "                                                      address_elements, telephone_elements, rating_elements):\n",
    "    \n",
    "    # Check if the category starts with \"Real Estate Brokers\"\n",
    "    if category.text.startswith('Real Estate Brokers'):\n",
    "        # Remove HTML tags from the scraped data using regex\n",
    "        category = re.sub('<[^<]+?>', '', category.text)\n",
    "        name = re.sub('<[^<]+?>', '', name.text).strip()  # Use strip() to remove excess spaces\n",
    "        address = re.sub('<[^<]+?>', '', address.text)\n",
    "        telephone = re.sub('<[^<]+?>', '', telephone)\n",
    "        rating = re.sub('<[^<]+?>', '', rating.text)\n",
    "\n",
    "        # Write the broker's information to the CSV file\n",
    "        writer.writerow([category, name, address, telephone, rating])\n",
    "\n",
    "file.close()\n",
    "\n",
    "# Print a message to confirm the scrape is complete\n",
    "print('Scraping complete!')"
   ]
  },
  {
   "cell_type": "code",
   "execution_count": 3,
   "id": "92048ec0",
   "metadata": {},
   "outputs": [
    {
     "name": "stdout",
     "output_type": "stream",
     "text": [
      "Scraping complete!\n"
     ]
    }
   ],
   "source": [
    "# FINAL PAGE 3 \n",
    "\n",
    "from bs4 import BeautifulSoup\n",
    "import re\n",
    "import requests\n",
    "import csv\n",
    "\n",
    "# Specify the URL to scrape\n",
    "url = requests.get('https://www.yellow-pages.ph/category/real-estate-brokers/page-3?sort=most-rated')\n",
    "\n",
    "# Use BeautifulSoup to parse the HTML\n",
    "soup = BeautifulSoup(url.text, 'html.parser')\n",
    "\n",
    "# Find the relevant elements on the page\n",
    "category_elements = soup.findAll('span', attrs={'class':'search-capsule-rounded search-badge'})\n",
    "\n",
    "name_elements = soup.findAll('h2', attrs={'class':'search-tradename'})\n",
    "\n",
    "address_elements = soup.findAll('span', attrs={'class':'ellipsis'})\n",
    "\n",
    "telephone_elements = []\n",
    "for elem in soup.find_all('a', href=True):\n",
    "    if elem.get(\"href\").startswith(\"tel:\"):\n",
    "        telephone_elements.append(elem['href'])\n",
    "\n",
    "rating_elements = soup.findAll('div', attrs={'class':'mr-1 text-muted'})\n",
    "\n",
    "# Create CSV file\n",
    "file = open('brokers_page3.csv', 'w', encoding='utf-8', newline='')\n",
    "writer = csv.writer(file)\n",
    "\n",
    "writer.writerow(['Category', 'Name', 'Address', 'Telephone', 'Ratings'])\n",
    "\n",
    "# Using a for-loop to get the attributes\n",
    "for category, name, address, telephone, rating in zip(category_elements, name_elements, \n",
    "                                                      address_elements, telephone_elements, rating_elements):\n",
    "    \n",
    "    # Check if the category starts with \"Real Estate Brokers\"\n",
    "    if category.text.startswith('Real Estate Brokers'):\n",
    "        # Remove HTML tags from the scraped data using regex\n",
    "        category = re.sub('<[^<]+?>', '', category.text)\n",
    "        name = re.sub('<[^<]+?>', '', name.text).strip()  # Use strip() to remove excess spaces\n",
    "        address = re.sub('<[^<]+?>', '', address.text)\n",
    "        telephone = re.sub('<[^<]+?>', '', telephone)\n",
    "        rating = re.sub('<[^<]+?>', '', rating.text)\n",
    "\n",
    "        # Write the broker's information to the CSV file\n",
    "        writer.writerow([category, name, address, telephone, rating])\n",
    "\n",
    "file.close()\n",
    "\n",
    "# Print a message to confirm the scrape is complete\n",
    "print('Scraping complete!')"
   ]
  },
  {
   "cell_type": "code",
   "execution_count": 4,
   "id": "632945c1",
   "metadata": {},
   "outputs": [
    {
     "name": "stdout",
     "output_type": "stream",
     "text": [
      "Scraping complete!\n"
     ]
    }
   ],
   "source": [
    "# FINAL PAGE 4\n",
    "\n",
    "import csv\n",
    "import re\n",
    "import requests\n",
    "from bs4 import BeautifulSoup\n",
    "\n",
    "# Specify the URL to scrape\n",
    "url = requests.get('https://www.yellow-pages.ph/search/commercial-properties/nationwide/page-1?sort=most-rated')\n",
    "\n",
    "# Use BeautifulSoup to parse the HTML\n",
    "soup = BeautifulSoup(url.text, 'html.parser')\n",
    "\n",
    "# Find the relevant elements on the page\n",
    "category_elements = soup.findAll('span', attrs={'class': 'search-capsule-rounded search-badge'})\n",
    "\n",
    "name_elements = soup.findAll('h2', attrs={'class': 'search-tradename'})\n",
    "\n",
    "address_elements = soup.findAll('span', attrs={'class': 'ellipsis'})\n",
    "\n",
    "telephone_elements = []\n",
    "for elem in soup.find_all('a', href=True):\n",
    "    if elem.get(\"href\").startswith(\"tel:\"):\n",
    "        telephone_elements.append(elem['href'])\n",
    "\n",
    "rating_elements = soup.findAll('div', attrs={'class': 'mr-1 text-muted'})\n",
    "\n",
    "# Create CSV file\n",
    "file = open('brokers_page4.csv', 'w', encoding='utf-8', newline='')\n",
    "writer = csv.writer(file)\n",
    "\n",
    "writer.writerow(['Category', 'Name', 'Address', 'Telephone', 'Ratings'])\n",
    "\n",
    "# Using a for-loop to get the attributes\n",
    "for category, name, address, telephone, rating in zip(category_elements, name_elements,\n",
    "                                                      address_elements, telephone_elements, rating_elements):\n",
    "    \n",
    "    # Check if the category starts with \"Commercial Properties\"\n",
    "    if category.text.startswith('Commercial Properties'):\n",
    "        # Remove HTML tags from the scraped data using regex\n",
    "        category = re.sub('<[^<]+?>', '', category.text)\n",
    "        name = re.sub('<[^<]+?>', '', name.text).strip()  # Use strip() to remove excess spaces\n",
    "        address = re.sub('<[^<]+?>', '', address.text)\n",
    "        telephone = re.sub('<[^<]+?>', '', telephone)\n",
    "        rating = re.sub('<[^<]+?>', '', rating.text)\n",
    "\n",
    "        # Write the broker's information to the CSV file\n",
    "        writer.writerow([category, name, address, telephone, rating])\n",
    "\n",
    "file.close()\n",
    "\n",
    "# Print a message to confirm the scrape is complete\n",
    "print('Scraping complete!')"
   ]
  },
  {
   "cell_type": "markdown",
   "id": "9d50671c",
   "metadata": {},
   "source": [
    "## Merging the csv files"
   ]
  },
  {
   "cell_type": "code",
   "execution_count": 5,
   "id": "dcfd3f25",
   "metadata": {},
   "outputs": [
    {
     "name": "stdout",
     "output_type": "stream",
     "text": [
      "Merged data written to merged_brokers.csv.\n"
     ]
    }
   ],
   "source": [
    "import csv\n",
    "import os\n",
    "\n",
    "# Set the file paths of the CSV files to be merged\n",
    "file_paths = ['brokers_page1.csv', 'brokers_page2.csv', 'brokers_page3.csv', 'brokers_page4.csv']\n",
    "\n",
    "# Create a new CSV file to store the merged data\n",
    "merged_file_path = 'merged_brokers.csv'\n",
    "with open(merged_file_path, 'w', newline='', encoding='utf-8') as merged_file:\n",
    "    writer = csv.writer(merged_file)\n",
    "    \n",
    "    # Loop over each CSV file to be merged\n",
    "    for i, file_path in enumerate(file_paths):\n",
    "        with open(file_path, 'r', newline='', encoding='utf-8') as csv_file:\n",
    "            reader = csv.reader(csv_file)\n",
    "            \n",
    "            # Skip the headers for all files except the first one\n",
    "            if i != 0:\n",
    "                next(reader)\n",
    "            \n",
    "            # Loop over each row in the CSV file and write it to the merged CSV file\n",
    "            for row in reader:\n",
    "                writer.writerow(row)\n",
    "                \n",
    "print(f'Merged data written to {merged_file_path}.')"
   ]
  },
  {
   "cell_type": "markdown",
   "id": "6c1852d0",
   "metadata": {},
   "source": [
    "## Data Cleaning"
   ]
  },
  {
   "cell_type": "code",
   "execution_count": 7,
   "id": "7c42044a",
   "metadata": {},
   "outputs": [
    {
     "name": "stdout",
     "output_type": "stream",
     "text": [
      "Category     0\n",
      "Name         0\n",
      "Address      0\n",
      "Telephone    0\n",
      "Ratings      0\n",
      "dtype: int64\n",
      "False\n",
      "Category     0\n",
      "Name         0\n",
      "Address      0\n",
      "Telephone    0\n",
      "Ratings      0\n",
      "dtype: int64\n",
      "False\n"
     ]
    }
   ],
   "source": [
    "import pandas as pd\n",
    "\n",
    "# Load the dataframe\n",
    "df = pd.read_csv('merged_brokers.csv')\n",
    "\n",
    "# Check for null and empty values\n",
    "print(df.isnull().sum())  # count the number of null values in each column\n",
    "print(df.empty)  # check if the dataframe is empty\n",
    "\n",
    "# Drop the rows with null and empty values\n",
    "df = df.dropna()  # drop rows with null values\n",
    "df = df.drop(df[df.eq('').any(1)].index)  # drop rows with empty values\n",
    "\n",
    "# Replace the null and empty values with a default value\n",
    "df = df.fillna('N/A')\n",
    "\n",
    "# Check again for any remaining null or empty values\n",
    "print(df.isnull().sum())  # count the number of null values in each column\n",
    "print(df.empty)  # check if the dataframe is empty\n",
    "\n",
    "# Save the cleaned dataframe to a new CSV file\n",
    "df.to_csv('final_brokers_data.csv', index=False)"
   ]
  },
  {
   "cell_type": "code",
   "execution_count": null,
   "id": "b62c37f0",
   "metadata": {},
   "outputs": [],
   "source": []
  }
 ],
 "metadata": {
  "kernelspec": {
   "display_name": "Python 3 (ipykernel)",
   "language": "python",
   "name": "python3"
  },
  "language_info": {
   "codemirror_mode": {
    "name": "ipython",
    "version": 3
   },
   "file_extension": ".py",
   "mimetype": "text/x-python",
   "name": "python",
   "nbconvert_exporter": "python",
   "pygments_lexer": "ipython3",
   "version": "3.9.13"
  }
 },
 "nbformat": 4,
 "nbformat_minor": 5
}
